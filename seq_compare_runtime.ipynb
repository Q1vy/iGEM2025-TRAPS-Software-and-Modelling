{
 "cells": [
  {
   "cell_type": "markdown",
   "id": "99dd8c7e-8e7b-4088-aa5c-58739f7437ae",
   "metadata": {},
   "source": [
    "## about this notebook:\n",
    "- the goal is to compare a small sequence against a long sequence, and see how well they match at each position.\n",
    "- here it is all about how to make this comparison as fast as possible"
   ]
  },
  {
   "cell_type": "code",
   "execution_count": 1,
   "id": "200d4742-3554-4a7d-af6d-7183756d6091",
   "metadata": {},
   "outputs": [],
   "source": [
    "import numpy as np\n",
    "from numba import njit"
   ]
  },
  {
   "cell_type": "markdown",
   "id": "523e96de-7c24-435a-adee-f0dfdbeabbff",
   "metadata": {},
   "source": [
    "### testing on numeric sequences"
   ]
  },
  {
   "cell_type": "code",
   "execution_count": 2,
   "id": "7c9ea015-888b-4638-9e78-30f6c69947d8",
   "metadata": {},
   "outputs": [],
   "source": [
    "ref = np.random.randint(low = 0, high = 4, size = 1000) # long reference sequence\n",
    "seq = ref[:10] # short target sequence"
   ]
  },
  {
   "cell_type": "code",
   "execution_count": 3,
   "id": "30de98dc-54d3-43b8-96a1-bfe5c59ace15",
   "metadata": {},
   "outputs": [
    {
     "name": "stdout",
     "output_type": "stream",
     "text": [
      "3.17 ms ± 31.9 μs per loop (mean ± std. dev. of 100 runs, 10 loops each)\n"
     ]
    }
   ],
   "source": [
    "def sc_py(ref, seq):\n",
    "    cv = np.zeros(len(ref)-len(seq)+1, dtype = \"int8\")\n",
    "    for i, _ in enumerate(cv):\n",
    "        cv[i] = np.sum(ref[i:i+len(seq)] == seq)\n",
    "    return cv\n",
    "    \n",
    "cv_py = sc_py(ref, seq)    \n",
    "%timeit -r 100 -n 10 sc_py( ref,  seq)"
   ]
  },
  {
   "cell_type": "code",
   "execution_count": 4,
   "id": "1bb0a764-5394-4974-866a-fa34a9d8dd37",
   "metadata": {},
   "outputs": [
    {
     "name": "stdout",
     "output_type": "stream",
     "text": [
      "215 μs ± 2.82 μs per loop (mean ± std. dev. of 100 runs, 10 loops each)\n"
     ]
    }
   ],
   "source": [
    "def encoder(seq):\n",
    "    array = np.zeros((len(seq),4))\n",
    "    for i in range(len(array)):\n",
    "        array[i, seq[i]] = 1\n",
    "    return array\n",
    "    \n",
    "def sc_np(ref, seq): # this allows not only for counting mismatches, but would also allow for giving them different weights\n",
    "    REF = encoder(ref)\n",
    "    SEQ = encoder(seq)\n",
    "    cv = np.correlate(REF.flatten(), SEQ.flatten(), mode = \"valid\")[::4]\n",
    "    return cv\n",
    "    \n",
    "cv_np = sc_np(ref, seq)    \n",
    "%timeit -r 100 -n 10 sc_np( ref,  seq)\n",
    "assert np.all(cv_py == cv_np)"
   ]
  },
  {
   "cell_type": "code",
   "execution_count": 5,
   "id": "6455088a-4086-4139-845f-cb8ea35171e0",
   "metadata": {},
   "outputs": [
    {
     "name": "stdout",
     "output_type": "stream",
     "text": [
      "27.8 μs ± 214 ns per loop (mean ± std. dev. of 100 runs, 100 loops each)\n"
     ]
    }
   ],
   "source": [
    "@njit \n",
    "def sc_jit(ref, seq):\n",
    "    cv = np.zeros(len(ref)-len(seq)+1, dtype = \"int8\")\n",
    "    for i, _ in enumerate(cv):\n",
    "        cv[i] = np.sum(np.equal(ref[i:i+len(seq)], seq))\n",
    "    return cv\n",
    "    \n",
    "cv_jit = sc_jit(ref, seq);\n",
    "\n",
    "%timeit -r 100 -n 100 sc_jit( ref,  seq) # does only work with numbers\n",
    "del sc_jit\n",
    "assert np.all(cv_py == cv_jit)"
   ]
  },
  {
   "cell_type": "code",
   "execution_count": 6,
   "id": "8b1d2ecc-bdee-4ff5-8af2-0499c688e1ce",
   "metadata": {},
   "outputs": [
    {
     "name": "stdout",
     "output_type": "stream",
     "text": [
      "12.8 μs ± 392 ns per loop (mean ± std. dev. of 100 runs, 10 loops each)\n"
     ]
    }
   ],
   "source": [
    "@njit \n",
    "def sc_jit(ref, seq):\n",
    "    n = len(ref)-len(seq)+1\n",
    "    cv = [0]*n\n",
    "    for i in range(n):\n",
    "        count = 0\n",
    "        for j in range(len(seq)):\n",
    "            if ref[i+j] == seq[j]:\n",
    "                count += 1\n",
    "        cv[i] = count\n",
    "    return cv\n",
    "    \n",
    "cv_jit = sc_jit(ref, seq);\n",
    "%timeit -r 100 -n 10 sc_jit( ref,  seq)\n",
    "del sc_jit\n",
    "assert np.all(cv_py == cv_jit)"
   ]
  },
  {
   "cell_type": "code",
   "execution_count": 7,
   "id": "113cd01b-f1d8-4098-a92a-01b133d82b48",
   "metadata": {},
   "outputs": [
    {
     "name": "stdout",
     "output_type": "stream",
     "text": [
      "4.83 μs ± 102 ns per loop (mean ± std. dev. of 100 runs, 1,000 loops each)\n"
     ]
    }
   ],
   "source": [
    "@njit\n",
    "def sc_jit(ref, seq):\n",
    "    n = len(ref) - len(seq) + 1\n",
    "    cv = np.zeros(n, dtype=np.int8) \n",
    "    for i in range(n):\n",
    "        count = 0\n",
    "        for j in range(len(seq)):\n",
    "            if ref[i + j] == seq[j]:\n",
    "                count += 1\n",
    "        cv[i] = count\n",
    "    return cv\n",
    "    \n",
    "cv_jit = sc_jit( ref,  seq)\n",
    "%timeit -r 100 -n 1000 sc_jit(ref, seq)\n",
    "assert np.all(cv_py == cv_jit)"
   ]
  },
  {
   "cell_type": "markdown",
   "id": "b068788a-0e06-4b14-a978-29c58a5466f8",
   "metadata": {},
   "source": [
    "### But sequences come as strings"
   ]
  },
  {
   "cell_type": "code",
   "execution_count": 8,
   "id": "39854a0f-31d2-4c60-81f4-c65be8361525",
   "metadata": {},
   "outputs": [],
   "source": [
    "_ref = \"\".join(np.array([\"A\", \"C\", \"G\", \"T\"])[ref])\n",
    "_seq = \"\".join(np.array([\"A\", \"C\", \"G\", \"T\"])[seq])"
   ]
  },
  {
   "cell_type": "code",
   "execution_count": 9,
   "id": "1cb67a93-6242-4434-9417-b3b577de6e66",
   "metadata": {},
   "outputs": [
    {
     "name": "stdout",
     "output_type": "stream",
     "text": [
      "268 μs ± 2.12 μs per loop (mean ± std. dev. of 100 runs, 100 loops each)\n"
     ]
    }
   ],
   "source": [
    "cv_jit = sc_jit( _ref,  _seq)\n",
    "%timeit -r 100 -n 100 sc_jit(_ref, _seq)\n",
    "assert np.all(cv_py == cv_jit)"
   ]
  },
  {
   "cell_type": "code",
   "execution_count": 10,
   "id": "f0461fac-ebac-4d91-9fe1-56a37532d3f5",
   "metadata": {},
   "outputs": [
    {
     "name": "stdout",
     "output_type": "stream",
     "text": [
      "89.8 μs ± 1.13 μs per loop (mean ± std. dev. of 100 runs, 100 loops each)\n"
     ]
    }
   ],
   "source": [
    "cv_jit = sc_jit(np.array([int(char) for char in _ref.replace(\"A\", \"0\").replace(\"C\", \"1\").replace(\"G\", \"2\").replace(\"T\", \"3\")]), np.array([int(char) for char in _seq.replace(\"A\", \"0\").replace(\"C\", \"1\").replace(\"G\", \"2\").replace(\"T\", \"3\")]))\n",
    "%timeit -r 100 -n 100 sc_jit(np.array([int(char) for char in _ref.replace(\"A\", \"0\").replace(\"C\", \"1\").replace(\"G\", \"2\").replace(\"T\", \"3\")]), np.array([int(char) for char in _seq.replace(\"A\", \"0\").replace(\"C\", \"1\").replace(\"G\", \"2\").replace(\"T\", \"3\")]))\n",
    "assert np.all(cv_py == cv_jit)"
   ]
  },
  {
   "cell_type": "code",
   "execution_count": 11,
   "id": "99b0c76b-33f5-476e-a61d-5940e78aa454",
   "metadata": {},
   "outputs": [
    {
     "name": "stdout",
     "output_type": "stream",
     "text": [
      "4.99 μs ± 40.5 ns per loop (mean ± std. dev. of 100 runs, 1,000 loops each)\n"
     ]
    }
   ],
   "source": [
    "sc_jit(_ref.encode('utf-8'), _seq.encode('utf-8'))\n",
    "%timeit  -r 100 -n 1000 sc_jit(_ref.encode('utf-8'), _seq.encode('utf-8'))\n",
    "assert np.all(cv_py == cv_jit)"
   ]
  },
  {
   "cell_type": "code",
   "execution_count": 22,
   "id": "b937e3d0-21b8-494c-89f6-f787c7439348",
   "metadata": {},
   "outputs": [
    {
     "name": "stdout",
     "output_type": "stream",
     "text": [
      "80.6 ns ± 1.34 ns per loop (mean ± std. dev. of 100 runs, 1,000,000 loops each)\n"
     ]
    }
   ],
   "source": [
    "%timeit -r 100 -n 1000000 _ref.encode('utf-8')"
   ]
  },
  {
   "cell_type": "code",
   "execution_count": 23,
   "id": "e582ceb1-3c2e-4d19-b81b-e9573280327b",
   "metadata": {},
   "outputs": [
    {
     "name": "stdout",
     "output_type": "stream",
     "text": [
      "80.8 ns ± 1.23 ns per loop (mean ± std. dev. of 100 runs, 1,000,000 loops each)\n"
     ]
    }
   ],
   "source": [
    "%timeit -r 100 -n 1000000 _ref.encode('ascii')"
   ]
  }
 ],
 "metadata": {
  "kernelspec": {
   "display_name": "Python (F1)",
   "language": "python",
   "name": "f1"
  },
  "language_info": {
   "codemirror_mode": {
    "name": "ipython",
    "version": 3
   },
   "file_extension": ".py",
   "mimetype": "text/x-python",
   "name": "python",
   "nbconvert_exporter": "python",
   "pygments_lexer": "ipython3",
   "version": "3.13.2"
  }
 },
 "nbformat": 4,
 "nbformat_minor": 5
}
